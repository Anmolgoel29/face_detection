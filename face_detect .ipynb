{
 "cells": [
  {
   "cell_type": "code",
   "execution_count": 49,
   "metadata": {},
   "outputs": [],
   "source": [
    "import cv2\n",
    "import numpy as np"
   ]
  },
  {
   "cell_type": "code",
   "execution_count": 50,
   "metadata": {},
   "outputs": [],
   "source": [
    "haar_cascade_file = \"/home/rogue/Desktop/face_recon_media_segregation/haarcascade_frontalcatface.xml\"\n",
    "haar_cascade = cv2.CascadeClassifier(haar_cascade_file)"
   ]
  },
  {
   "cell_type": "code",
   "execution_count": 128,
   "metadata": {},
   "outputs": [],
   "source": [
    "imgs_path = [\"/home/rogue/Desktop/face_recon_media_segregation/know-faces/sanju_mosi_ji.png\" ,\n",
    "            \"/home/rogue/Desktop/face_recon_media_segregation/know-faces/anil_mosa_ji.png\"]\n",
    "\n",
    "imgs = []\n",
    "for i in imgs_path:\n",
    "    imgs.append(cv2.imread(i,0))\n",
    "\n",
    "cv2.imshow(\"Image\",imgs[0])\n",
    "cv2.waitKey(0)\n",
    "cv2.destroyAllWindows()"
   ]
  },
  {
   "cell_type": "code",
   "execution_count": 129,
   "metadata": {},
   "outputs": [],
   "source": [
    "faces = []\n",
    "\n",
    "for i in imgs:\n",
    "    # faces.append(haar_cascade.detectMultiScale(i , scaleFactor=1.05 , minNeighbors=0 , minSize=(120,120)))\n",
    "    faces.append(haar_cascade.detectMultiScale(i , scaleFactor=1.05 , minNeighbors=0 , minSize=(125,125)))"
   ]
  },
  {
   "cell_type": "code",
   "execution_count": 130,
   "metadata": {},
   "outputs": [],
   "source": [
    "faces = faces[::-1]"
   ]
  },
  {
   "cell_type": "code",
   "execution_count": 131,
   "metadata": {},
   "outputs": [
    {
     "data": {
      "text/plain": [
       "[array([[103, 103, 146, 146],\n",
       "        [103, 109, 146, 146],\n",
       "        [ 96, 109, 153, 153],\n",
       "        [ 87, 107, 161, 161],\n",
       "        [ 84,  99, 169, 169],\n",
       "        [ 77, 106, 169, 169],\n",
       "        [ 84, 106, 169, 169],\n",
       "        [ 92, 106, 169, 169],\n",
       "        [ 89,  89, 177, 177],\n",
       "        [ 96,  89, 177, 177],\n",
       "        [ 74,  96, 177, 177],\n",
       "        [ 81,  96, 177, 177],\n",
       "        [ 89,  96, 177, 177],\n",
       "        [ 96,  96, 177, 177],\n",
       "        [103,  96, 177, 177],\n",
       "        [ 74, 103, 177, 177],\n",
       "        [ 81, 103, 177, 177],\n",
       "        [ 89, 103, 177, 177],\n",
       "        [ 96, 103, 177, 177],\n",
       "        [103, 103, 177, 177],\n",
       "        [ 93,  78, 186, 186],\n",
       "        [ 85,  85, 186, 186],\n",
       "        [ 93,  85, 186, 186],\n",
       "        [ 78,  93, 186, 186],\n",
       "        [ 85,  93, 186, 186],\n",
       "        [ 85, 101, 186, 186],\n",
       "        [ 93, 101, 186, 186],\n",
       "        [ 90,  81, 196, 196],\n",
       "        [ 65,  90, 196, 196],\n",
       "        [ 73,  90, 196, 196],\n",
       "        [ 81,  90, 196, 196],\n",
       "        [ 90,  90, 196, 196],\n",
       "        [ 73,  98, 196, 196],\n",
       "        [ 81,  98, 196, 196],\n",
       "        [ 90,  98, 196, 196],\n",
       "        [ 77,  77, 205, 205],\n",
       "        [ 86,  77, 202, 205],\n",
       "        [ 68,  86, 205, 205],\n",
       "        [ 77,  86, 205, 205],\n",
       "        [ 86,  86, 202, 205],\n",
       "        [ 68,  94, 205, 205],\n",
       "        [ 77,  94, 205, 205],\n",
       "        [ 86,  94, 202, 205],\n",
       "        [ 72,  72, 216, 216],\n",
       "        [ 63,  81, 216, 216],\n",
       "        [ 72,  81, 216, 216],\n",
       "        [ 54,  90, 216, 216],\n",
       "        [ 63,  90, 216, 216],\n",
       "        [ 72,  90, 216, 216],\n",
       "        [ 66,  75, 222, 226],\n",
       "        [ 50,  69, 238, 238]], dtype=int32),\n",
       " array([[ 26,  32, 126, 126],\n",
       "        [ 32,  32, 126, 126]], dtype=int32)]"
      ]
     },
     "execution_count": 131,
     "metadata": {},
     "output_type": "execute_result"
    }
   ],
   "source": [
    "faces"
   ]
  },
  {
   "cell_type": "code",
   "execution_count": 132,
   "metadata": {},
   "outputs": [
    {
     "name": "stdout",
     "output_type": "stream",
     "text": [
      "[[103 103 146 146]\n",
      " [103 109 146 146]\n",
      " [ 96 109 153 153]\n",
      " [ 87 107 161 161]\n",
      " [ 84  99 169 169]\n",
      " [ 77 106 169 169]\n",
      " [ 84 106 169 169]\n",
      " [ 92 106 169 169]\n",
      " [ 89  89 177 177]\n",
      " [ 96  89 177 177]\n",
      " [ 74  96 177 177]\n",
      " [ 81  96 177 177]\n",
      " [ 89  96 177 177]\n",
      " [ 96  96 177 177]\n",
      " [103  96 177 177]\n",
      " [ 74 103 177 177]\n",
      " [ 81 103 177 177]\n",
      " [ 89 103 177 177]\n",
      " [ 96 103 177 177]\n",
      " [103 103 177 177]\n",
      " [ 93  78 186 186]\n",
      " [ 85  85 186 186]\n",
      " [ 93  85 186 186]\n",
      " [ 78  93 186 186]\n",
      " [ 85  93 186 186]\n",
      " [ 85 101 186 186]\n",
      " [ 93 101 186 186]\n",
      " [ 90  81 196 196]\n",
      " [ 65  90 196 196]\n",
      " [ 73  90 196 196]\n",
      " [ 81  90 196 196]\n",
      " [ 90  90 196 196]\n",
      " [ 73  98 196 196]\n",
      " [ 81  98 196 196]\n",
      " [ 90  98 196 196]\n",
      " [ 77  77 205 205]\n",
      " [ 86  77 202 205]\n",
      " [ 68  86 205 205]\n",
      " [ 77  86 205 205]\n",
      " [ 86  86 202 205]\n",
      " [ 68  94 205 205]\n",
      " [ 77  94 205 205]\n",
      " [ 86  94 202 205]\n",
      " [ 72  72 216 216]\n",
      " [ 63  81 216 216]\n",
      " [ 72  81 216 216]\n",
      " [ 54  90 216 216]\n",
      " [ 63  90 216 216]\n",
      " [ 72  90 216 216]\n",
      " [ 66  75 222 226]\n",
      " [ 50  69 238 238]]\n",
      "[[ 26  32 126 126]\n",
      " [ 32  32 126 126]]\n"
     ]
    }
   ],
   "source": [
    "for i in faces:\n",
    "    print(i)"
   ]
  },
  {
   "cell_type": "code",
   "execution_count": 133,
   "metadata": {},
   "outputs": [
    {
     "name": "stdout",
     "output_type": "stream",
     "text": [
      "2 2\n",
      "2\n",
      "yo\n",
      "(np.int32(26), np.int32(32), np.int32(126), np.int32(126))\n",
      "yo\n",
      "(np.int32(32), np.int32(32), np.int32(126), np.int32(126))\n",
      "[[155 149 146 ...  88 110 105]\n",
      " [155 156 148 ... 127 103  96]\n",
      " [154 152 149 ... 133  97  90]\n",
      " ...\n",
      " [139 136 131 ... 105 107 105]\n",
      " [136 138 130 ...  84  97 102]\n",
      " [134 121 122 ...  90  91  85]]\n"
     ]
    },
    {
     "data": {
      "text/plain": [
       "True"
      ]
     },
     "execution_count": 133,
     "metadata": {},
     "output_type": "execute_result"
    }
   ],
   "source": [
    "faces_img=[]\n",
    "\n",
    "print(len(faces),len(imgs))\n",
    "\n",
    "# for i in range(len(faces)):\n",
    "#     # i = list(i)\n",
    "#     # for j in len(i):\n",
    "\n",
    "i=1\n",
    "\n",
    "print(len(faces[i]))\n",
    "\n",
    "for x,y,w,h in faces[i]:\n",
    "    print(\"yo\")\n",
    "    print((x,y,w,h))\n",
    "    temp = imgs[1][y : y+h , x : x+w]\n",
    "    # cv2.imshow(\"temp\",imgs[0])\n",
    "    # cv2.waitKey(0)\n",
    "    # cv2.destroyAllWindows()\n",
    "    faces_img.append(temp)\n",
    "\n",
    "print((faces_img[0]))\n",
    "cv2.imwrite(\"Image0.jpg\" , faces_img[0])\n",
    "cv2.imwrite(\"Image1.jpg\" , faces_img[1])\n",
    "# cv2.imwrite(\"Image2.jpg\" , faces_img[2])\n",
    "# cv2.imwrite(\"Image3.jpg\" , faces_img[3])"
   ]
  },
  {
   "cell_type": "code",
   "execution_count": null,
   "metadata": {},
   "outputs": [],
   "source": []
  }
 ],
 "metadata": {
  "kernelspec": {
   "display_name": "myenv",
   "language": "python",
   "name": "python3"
  },
  "language_info": {
   "codemirror_mode": {
    "name": "ipython",
    "version": 3
   },
   "file_extension": ".py",
   "mimetype": "text/x-python",
   "name": "python",
   "nbconvert_exporter": "python",
   "pygments_lexer": "ipython3",
   "version": "3.12.3"
  }
 },
 "nbformat": 4,
 "nbformat_minor": 2
}
